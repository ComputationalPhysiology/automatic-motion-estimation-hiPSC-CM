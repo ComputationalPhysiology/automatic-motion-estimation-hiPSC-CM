{
 "cells": [
  {
   "cell_type": "markdown",
   "id": "a9a58616-a502-4840-9919-2304299fe9cc",
   "metadata": {},
   "source": [
    "# Download data"
   ]
  },
  {
   "cell_type": "code",
   "execution_count": null,
   "id": "2a6f44e7-2094-451b-b894-877761df750f",
   "metadata": {},
   "outputs": [],
   "source": [
    "import zipfile\n",
    "from pathlib import Path\n",
    "import requests\n",
    "from tqdm import tqdm\n",
    "\n",
    "\n",
    "def download(path, link, desc=None):\n",
    "    if desc is None:\n",
    "        desc = f\"Download data to {path}\"\n",
    "\n",
    "    response = requests.get(link, stream=True)\n",
    "    total_size_in_bytes = int(response.headers.get(\"content-length\", 0))\n",
    "    progress_bar = tqdm(\n",
    "        total=total_size_in_bytes, unit=\"iB\", unit_scale=True, desc=desc\n",
    "    )\n",
    "\n",
    "    with open(path, \"wb\") as handle:\n",
    "        for data in response.iter_content(chunk_size=1000 * 1024):\n",
    "            progress_bar.update(len(data))\n",
    "            handle.write(data)\n",
    "    progress_bar.close()"
   ]
  },
  {
   "cell_type": "code",
   "execution_count": null,
   "id": "c630fee4-5f9d-4086-afe9-669555d93295",
   "metadata": {},
   "outputs": [],
   "source": [
    "datadir = Path(\"data\")\n",
    "datadir.mkdir(exist_ok=True, parents=True)"
   ]
  },
  {
   "cell_type": "code",
   "execution_count": null,
   "id": "da0e4b37-9251-4876-ab9e-c226f458afaa",
   "metadata": {},
   "outputs": [],
   "source": [
    "full_resolution = False"
   ]
  },
  {
   "cell_type": "markdown",
   "id": "6db8f0d3-f35b-48c7-8db7-caa3f72639cf",
   "metadata": {},
   "source": [
    "## Dataset 1"
   ]
  },
  {
   "cell_type": "code",
   "execution_count": null,
   "id": "f5862c76-a1dd-4062-a1e5-15d3e130c079",
   "metadata": {},
   "outputs": [],
   "source": [
    "if full_resolution:\n",
    "    link = \"https://www.dropbox.com/scl/fi/d885qvngi3oqfdc8fnxin/Count00000_Point2C_ChannelBF_Seq0015.nd2?rlkey=yb9dmf3zj597idte89cba73wx&?dl=1\"\n",
    "    path = datadir / \"Count00000_Point2C_ChannelBF_Seq0015.nd2\"\n",
    "else:\n",
    "    path = datadir / \"Count00000_Point2C_ChannelBF_Seq0015.npy\"\n",
    "    link = \"https://www.dropbox.com/scl/fi/dy9e3vqyjf57bih3i36iz/Count00000_Point2C_ChannelBF_Seq0015.npy?rlkey=2415vstljhbm2lmt1b06ytxfj&&dl=1\"\n",
    "\n",
    "download(path=path, link=link)"
   ]
  }
 ],
 "metadata": {
  "kernelspec": {
   "display_name": "Python 3 (ipykernel)",
   "language": "python",
   "name": "python3"
  },
  "language_info": {
   "codemirror_mode": {
    "name": "ipython",
    "version": 3
   },
   "file_extension": ".py",
   "mimetype": "text/x-python",
   "name": "python",
   "nbconvert_exporter": "python",
   "pygments_lexer": "ipython3",
   "version": "3.11.4"
  }
 },
 "nbformat": 4,
 "nbformat_minor": 5
}
